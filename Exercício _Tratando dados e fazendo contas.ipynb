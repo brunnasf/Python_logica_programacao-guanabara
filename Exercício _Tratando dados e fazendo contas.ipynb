{
 "cells": [
  {
   "cell_type": "markdown",
   "id": "abeccff7",
   "metadata": {},
   "source": [
    "**Exercício #003 - somando dois números**"
   ]
  },
  {
   "cell_type": "code",
   "execution_count": 1,
   "id": "43292793",
   "metadata": {},
   "outputs": [
    {
     "name": "stdout",
     "output_type": "stream",
     "text": [
      "digite um valor:10\n"
     ]
    }
   ],
   "source": [
    "n1 = int(input ('digite um valor:'))"
   ]
  },
  {
   "cell_type": "code",
   "execution_count": 2,
   "id": "330afd3a",
   "metadata": {},
   "outputs": [
    {
     "name": "stdout",
     "output_type": "stream",
     "text": [
      "digite outro valor:4\n"
     ]
    }
   ],
   "source": [
    "n2 = int(input ('digite outro valor:'))"
   ]
  },
  {
   "cell_type": "code",
   "execution_count": 3,
   "id": "7718130f",
   "metadata": {},
   "outputs": [],
   "source": [
    "s = n1 + n2"
   ]
  },
  {
   "cell_type": "code",
   "execution_count": 4,
   "id": "693fe335",
   "metadata": {},
   "outputs": [
    {
     "name": "stdout",
     "output_type": "stream",
     "text": [
      "a soma entre 10 e 4 é igual a 14\n"
     ]
    }
   ],
   "source": [
    "print(f'a soma entre {n1} e {n2} é igual a {s}')"
   ]
  },
  {
   "cell_type": "code",
   "execution_count": null,
   "id": "37676c13",
   "metadata": {},
   "outputs": [],
   "source": []
  },
  {
   "cell_type": "markdown",
   "id": "dd873324",
   "metadata": {},
   "source": [
    "**Exercício #004 - Dissecando uma variável**"
   ]
  },
  {
   "cell_type": "markdown",
   "id": "5cd25437",
   "metadata": {},
   "source": [
    "Faça um programa que leia algo pelo teclado e mostre na tela o seu tipo primitivo e todas as informações possíveis sobre ele."
   ]
  },
  {
   "cell_type": "code",
   "execution_count": 5,
   "id": "e7f39d28",
   "metadata": {},
   "outputs": [
    {
     "name": "stdout",
     "output_type": "stream",
     "text": [
      "Diigite algo:5\n"
     ]
    }
   ],
   "source": [
    "a = input ('Diigite algo:')"
   ]
  },
  {
   "cell_type": "code",
   "execution_count": 6,
   "id": "030884b5",
   "metadata": {},
   "outputs": [
    {
     "name": "stdout",
     "output_type": "stream",
     "text": [
      "O tipo primitivo desse valor é : <class 'str'>\n",
      "Só tem espaços? False\n",
      "É um número? True\n",
      "É alfabético? False\n",
      "É alfanumérico? True\n",
      "Está em maiúscula? False\n",
      "Está em minúscula? False\n"
     ]
    }
   ],
   "source": [
    "print('O tipo primitivo desse valor é :', type(a))\n",
    "\n",
    "print ('Só tem espaços?',a.isspace())\n",
    "\n",
    "print ('É um número?', a.isnumeric())\n",
    "\n",
    "print ('É alfabético?',a.isalpha())\n",
    "\n",
    "print ('É alfanumérico?', a.isalnum())\n",
    "\n",
    "print ('Está em maiúscula?', a.isupper())\n",
    "\n",
    "print ('Está em minúscula?', a.islower())"
   ]
  },
  {
   "cell_type": "raw",
   "id": "971ab13f",
   "metadata": {},
   "source": []
  },
  {
   "cell_type": "markdown",
   "id": "f8fec3d4",
   "metadata": {},
   "source": [
    "**Exercício #005 - Antecessor e Sucessor**"
   ]
  },
  {
   "cell_type": "markdown",
   "id": "92a887ba",
   "metadata": {},
   "source": [
    "Faça um programa que leia um número inteiro e mostre na tela o seu sucessor e seu antecessor"
   ]
  },
  {
   "cell_type": "code",
   "execution_count": 7,
   "id": "2ec1eed4",
   "metadata": {},
   "outputs": [
    {
     "name": "stdout",
     "output_type": "stream",
     "text": [
      "Escreva um número:1\n"
     ]
    }
   ],
   "source": [
    "a = int(input('Escreva um número:'))"
   ]
  },
  {
   "cell_type": "code",
   "execution_count": 9,
   "id": "871e097e",
   "metadata": {},
   "outputs": [],
   "source": [
    "b = int(1)"
   ]
  },
  {
   "cell_type": "code",
   "execution_count": 10,
   "id": "361b9e3d",
   "metadata": {},
   "outputs": [
    {
     "name": "stdout",
     "output_type": "stream",
     "text": [
      "2\n",
      "0\n"
     ]
    }
   ],
   "source": [
    "sucessor = print(a + b)\n",
    "antecessor = print(a - b)"
   ]
  },
  {
   "cell_type": "markdown",
   "id": "e98305b7",
   "metadata": {},
   "source": [
    "Fazendo da forma que o Guabara explicou:"
   ]
  },
  {
   "cell_type": "code",
   "execution_count": 11,
   "id": "55a9019a",
   "metadata": {},
   "outputs": [
    {
     "name": "stdout",
     "output_type": "stream",
     "text": [
      "Digite um número:2\n"
     ]
    }
   ],
   "source": [
    "n = int(input('Digite um número:'))"
   ]
  },
  {
   "cell_type": "code",
   "execution_count": 12,
   "id": "3f2900fc",
   "metadata": {},
   "outputs": [],
   "source": [
    "m = n-1\n",
    "j = n + 1"
   ]
  },
  {
   "cell_type": "code",
   "execution_count": 13,
   "id": "d2c34658",
   "metadata": {},
   "outputs": [
    {
     "name": "stdout",
     "output_type": "stream",
     "text": [
      "analisando o valor 2, o seu antecessor é 1 e o seu sucessor é 3\n"
     ]
    }
   ],
   "source": [
    "print(f'analisando o valor {n}, o seu antecessor é {m} e o seu sucessor é {j}')"
   ]
  },
  {
   "cell_type": "code",
   "execution_count": 14,
   "id": "337556cd",
   "metadata": {},
   "outputs": [
    {
     "name": "stdout",
     "output_type": "stream",
     "text": [
      "analisando o valor 2, o seu antecessor é 1 e o seu sucessor é 3\n"
     ]
    }
   ],
   "source": [
    "print(f'analisando o valor {n}, o seu antecessor é {n-1} e o seu sucessor é {n+1}')"
   ]
  },
  {
   "cell_type": "code",
   "execution_count": null,
   "id": "d6fe3508",
   "metadata": {},
   "outputs": [],
   "source": []
  },
  {
   "cell_type": "markdown",
   "id": "f549ccc1",
   "metadata": {},
   "source": [
    "**Exercício #006 - Dobro, Triplo, Raiz Quadrada**"
   ]
  },
  {
   "cell_type": "markdown",
   "id": "a1201d63",
   "metadata": {},
   "source": [
    "crie um algoritimo que mostre o seu dobro, o seu triplo e a raíz quadrada:"
   ]
  },
  {
   "cell_type": "code",
   "execution_count": 15,
   "id": "106550c8",
   "metadata": {},
   "outputs": [
    {
     "name": "stdout",
     "output_type": "stream",
     "text": [
      "Digite um número:5\n"
     ]
    }
   ],
   "source": [
    "c = int(input('Digite um número:'))"
   ]
  },
  {
   "cell_type": "code",
   "execution_count": 16,
   "id": "0b7d041e",
   "metadata": {},
   "outputs": [
    {
     "name": "stdout",
     "output_type": "stream",
     "text": [
      "25\n"
     ]
    }
   ],
   "source": [
    "d = c**2\n",
    "print (d)"
   ]
  },
  {
   "cell_type": "code",
   "execution_count": 17,
   "id": "9c875af1",
   "metadata": {},
   "outputs": [
    {
     "name": "stdout",
     "output_type": "stream",
     "text": [
      "125\n"
     ]
    }
   ],
   "source": [
    "e = c**3\n",
    "print(e)"
   ]
  },
  {
   "cell_type": "code",
   "execution_count": null,
   "id": "64efd1a5",
   "metadata": {},
   "outputs": [],
   "source": []
  },
  {
   "cell_type": "markdown",
   "id": "10fdd287",
   "metadata": {},
   "source": [
    "**Exercício #007 - Média aritmética**"
   ]
  },
  {
   "cell_type": "markdown",
   "id": "ce7d11ac",
   "metadata": {},
   "source": [
    "Desenvolva um programa que leia as duas notas de um aluno, calcule e mostre a sua média"
   ]
  },
  {
   "cell_type": "code",
   "execution_count": 18,
   "id": "d9197754",
   "metadata": {},
   "outputs": [
    {
     "name": "stdout",
     "output_type": "stream",
     "text": [
      "nota alunox =7\n"
     ]
    }
   ],
   "source": [
    "alunox = int(input('nota alunox ='))"
   ]
  },
  {
   "cell_type": "code",
   "execution_count": 19,
   "id": "064624a5",
   "metadata": {},
   "outputs": [
    {
     "name": "stdout",
     "output_type": "stream",
     "text": [
      "nota aluno =8\n"
     ]
    }
   ],
   "source": [
    "alunoy = int(input('nota aluno ='))"
   ]
  },
  {
   "cell_type": "code",
   "execution_count": 21,
   "id": "79f0b723",
   "metadata": {},
   "outputs": [
    {
     "name": "stdout",
     "output_type": "stream",
     "text": [
      "7.5\n"
     ]
    }
   ],
   "source": [
    "media = (alunox+alunoy)/2\n",
    "print(media)"
   ]
  },
  {
   "cell_type": "code",
   "execution_count": null,
   "id": "eb7b1060",
   "metadata": {},
   "outputs": [],
   "source": []
  },
  {
   "cell_type": "markdown",
   "id": "95d5b147",
   "metadata": {},
   "source": [
    "**Exercício #006 - dobro, triplo, raiz quadrada**"
   ]
  },
  {
   "cell_type": "code",
   "execution_count": 22,
   "id": "5daf56f6",
   "metadata": {},
   "outputs": [
    {
     "name": "stdout",
     "output_type": "stream",
     "text": [
      "Digite um número:4\n"
     ]
    }
   ],
   "source": [
    "b = int(input('Digite um número:'))"
   ]
  },
  {
   "cell_type": "code",
   "execution_count": 23,
   "id": "13255f84",
   "metadata": {},
   "outputs": [
    {
     "name": "stdout",
     "output_type": "stream",
     "text": [
      "O dobro de 4 é 8\n"
     ]
    }
   ],
   "source": [
    "print(f'O dobro de {b} é {2*b}')"
   ]
  },
  {
   "cell_type": "code",
   "execution_count": 24,
   "id": "a801d7bf",
   "metadata": {},
   "outputs": [
    {
     "name": "stdout",
     "output_type": "stream",
     "text": [
      "O triplo de 4 é 12\n"
     ]
    }
   ],
   "source": [
    "print(f'O triplo de {b} é {3*b}')"
   ]
  },
  {
   "cell_type": "code",
   "execution_count": 25,
   "id": "8fbaf9d7",
   "metadata": {},
   "outputs": [
    {
     "name": "stdout",
     "output_type": "stream",
     "text": [
      " A raiz de 4 é 2.0\n"
     ]
    }
   ],
   "source": [
    "print(f' A raiz de {b} é {b**(1/2)}')"
   ]
  },
  {
   "cell_type": "code",
   "execution_count": null,
   "id": "4fe113b6",
   "metadata": {},
   "outputs": [],
   "source": []
  },
  {
   "cell_type": "markdown",
   "id": "2266190a",
   "metadata": {},
   "source": [
    "**Exercício #007 - dobro, triplo, raiz quadrada**"
   ]
  },
  {
   "cell_type": "markdown",
   "id": "1c31ddf2",
   "metadata": {},
   "source": [
    "Desenvolva um programa que leia as duas notas de um aluno"
   ]
  },
  {
   "cell_type": "code",
   "execution_count": 4,
   "id": "cfad6a9c",
   "metadata": {},
   "outputs": [
    {
     "name": "stdout",
     "output_type": "stream",
     "text": [
      "Digite uma nota:5.5\n"
     ]
    }
   ],
   "source": [
    "al1 = float(input('Digite uma nota:'))"
   ]
  },
  {
   "cell_type": "code",
   "execution_count": 5,
   "id": "4a0a764d",
   "metadata": {},
   "outputs": [
    {
     "name": "stdout",
     "output_type": "stream",
     "text": [
      "Digite uma nota:2\n"
     ]
    }
   ],
   "source": [
    "al2 = float(input('Digite uma nota:'))"
   ]
  },
  {
   "cell_type": "code",
   "execution_count": 6,
   "id": "b4cee214",
   "metadata": {},
   "outputs": [
    {
     "name": "stdout",
     "output_type": "stream",
     "text": [
      " a média de 5.5 e 2.0 é igual a 3.75\n"
     ]
    }
   ],
   "source": [
    "print(f' a média de {al1} e {al2} é igual a {(al1+al2)/2}')"
   ]
  },
  {
   "cell_type": "code",
   "execution_count": null,
   "id": "c5479409",
   "metadata": {},
   "outputs": [],
   "source": []
  },
  {
   "cell_type": "markdown",
   "id": "c6ef6a5c",
   "metadata": {},
   "source": [
    "**Exercício #008 - conversor de medidas**"
   ]
  },
  {
   "cell_type": "code",
   "execution_count": 31,
   "id": "83f22272",
   "metadata": {},
   "outputs": [
    {
     "name": "stdout",
     "output_type": "stream",
     "text": [
      "Escreva uma medida em m:3\n"
     ]
    }
   ],
   "source": [
    "m = float(input('Escreva uma medida em m:'))"
   ]
  },
  {
   "cell_type": "code",
   "execution_count": 32,
   "id": "c7657af8",
   "metadata": {},
   "outputs": [
    {
     "name": "stdout",
     "output_type": "stream",
     "text": [
      " a medida em 3.0 m corresponde a:\n"
     ]
    }
   ],
   "source": [
    "print(f' a medida em {m} m corresponde a:')"
   ]
  },
  {
   "cell_type": "code",
   "execution_count": 42,
   "id": "f321e087",
   "metadata": {},
   "outputs": [
    {
     "name": "stdout",
     "output_type": "stream",
     "text": [
      " a medida 5m em km corresponde a: 0.003km\n",
      " a medida 5m em hm corresponde a: 0.03hm\n",
      " a medida 5m em dam corresponde a: 0.3dam\n",
      " a medida 5m em dm corresponde a: 30.0dm\n"
     ]
    }
   ],
   "source": [
    "print(f' a medida {5}m em km corresponde a: {m/1000}km')\n",
    "print(f' a medida {5}m em hm corresponde a: {m/100}hm')\n",
    "print(f' a medida {5}m em dam corresponde a: {m/10}dam')\n",
    "print(f' a medida {5}m em dm corresponde a: {m*10}dm')"
   ]
  },
  {
   "cell_type": "code",
   "execution_count": null,
   "id": "a86b5763",
   "metadata": {},
   "outputs": [],
   "source": []
  },
  {
   "cell_type": "code",
   "execution_count": null,
   "id": "b60ed44a",
   "metadata": {},
   "outputs": [],
   "source": []
  }
 ],
 "metadata": {
  "kernelspec": {
   "display_name": "Python 3",
   "language": "python",
   "name": "python3"
  },
  "language_info": {
   "codemirror_mode": {
    "name": "ipython",
    "version": 3
   },
   "file_extension": ".py",
   "mimetype": "text/x-python",
   "name": "python",
   "nbconvert_exporter": "python",
   "pygments_lexer": "ipython3",
   "version": "3.8.8"
  }
 },
 "nbformat": 4,
 "nbformat_minor": 5
}
