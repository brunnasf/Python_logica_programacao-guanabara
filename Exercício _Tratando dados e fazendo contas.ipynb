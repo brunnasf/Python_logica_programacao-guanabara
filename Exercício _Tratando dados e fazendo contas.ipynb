{
 "cells": [
  {
   "cell_type": "markdown",
   "id": "abeccff7",
   "metadata": {},
   "source": [
    "**Exercício #003 - Somando dois números**"
   ]
  },
  {
   "cell_type": "code",
   "execution_count": 1,
   "id": "43292793",
   "metadata": {},
   "outputs": [
    {
     "name": "stdout",
     "output_type": "stream",
     "text": [
      "digite um valor:10\n"
     ]
    }
   ],
   "source": [
    "n1 = int(input ('digite um valor:'))"
   ]
  },
  {
   "cell_type": "code",
   "execution_count": 2,
   "id": "330afd3a",
   "metadata": {},
   "outputs": [
    {
     "name": "stdout",
     "output_type": "stream",
     "text": [
      "digite outro valor:4\n"
     ]
    }
   ],
   "source": [
    "n2 = int(input ('digite outro valor:'))"
   ]
  },
  {
   "cell_type": "code",
   "execution_count": 3,
   "id": "7718130f",
   "metadata": {},
   "outputs": [],
   "source": [
    "s = n1 + n2"
   ]
  },
  {
   "cell_type": "code",
   "execution_count": 4,
   "id": "693fe335",
   "metadata": {},
   "outputs": [
    {
     "name": "stdout",
     "output_type": "stream",
     "text": [
      "a soma entre 10 e 4 é igual a 14\n"
     ]
    }
   ],
   "source": [
    "print(f'a soma entre {n1} e {n2} é igual a {s}')"
   ]
  },
  {
   "cell_type": "code",
   "execution_count": null,
   "id": "37676c13",
   "metadata": {},
   "outputs": [],
   "source": []
  },
  {
   "cell_type": "markdown",
   "id": "dd873324",
   "metadata": {},
   "source": [
    "**Exercício #004 - Dissecando uma variável**"
   ]
  },
  {
   "cell_type": "markdown",
   "id": "5cd25437",
   "metadata": {},
   "source": [
    "Faça um programa que leia algo pelo teclado e mostre na tela o seu tipo primitivo e todas as informações possíveis sobre ele."
   ]
  },
  {
   "cell_type": "code",
   "execution_count": 5,
   "id": "e7f39d28",
   "metadata": {},
   "outputs": [
    {
     "name": "stdout",
     "output_type": "stream",
     "text": [
      "Diigite algo:5\n"
     ]
    }
   ],
   "source": [
    "a = input ('Diigite algo:')"
   ]
  },
  {
   "cell_type": "code",
   "execution_count": 6,
   "id": "030884b5",
   "metadata": {},
   "outputs": [
    {
     "name": "stdout",
     "output_type": "stream",
     "text": [
      "O tipo primitivo desse valor é : <class 'str'>\n",
      "Só tem espaços? False\n",
      "É um número? True\n",
      "É alfabético? False\n",
      "É alfanumérico? True\n",
      "Está em maiúscula? False\n",
      "Está em minúscula? False\n"
     ]
    }
   ],
   "source": [
    "print('O tipo primitivo desse valor é :', type(a))\n",
    "\n",
    "print ('Só tem espaços?',a.isspace())\n",
    "\n",
    "print ('É um número?', a.isnumeric())\n",
    "\n",
    "print ('É alfabético?',a.isalpha())\n",
    "\n",
    "print ('É alfanumérico?', a.isalnum())\n",
    "\n",
    "print ('Está em maiúscula?', a.isupper())\n",
    "\n",
    "print ('Está em minúscula?', a.islower())"
   ]
  },
  {
   "cell_type": "raw",
   "id": "971ab13f",
   "metadata": {},
   "source": []
  },
  {
   "cell_type": "markdown",
   "id": "f8fec3d4",
   "metadata": {},
   "source": [
    "**Exercício #005 - Antecessor e Sucessor**"
   ]
  },
  {
   "cell_type": "markdown",
   "id": "92a887ba",
   "metadata": {},
   "source": [
    "Faça um programa que leia um número inteiro e mostre na tela o seu sucessor e seu antecessor"
   ]
  },
  {
   "cell_type": "code",
   "execution_count": 7,
   "id": "2ec1eed4",
   "metadata": {},
   "outputs": [
    {
     "name": "stdout",
     "output_type": "stream",
     "text": [
      "Escreva um número:1\n"
     ]
    }
   ],
   "source": [
    "a = int(input('Escreva um número:'))"
   ]
  },
  {
   "cell_type": "code",
   "execution_count": 9,
   "id": "871e097e",
   "metadata": {},
   "outputs": [],
   "source": [
    "b = int(1)"
   ]
  },
  {
   "cell_type": "code",
   "execution_count": 10,
   "id": "361b9e3d",
   "metadata": {},
   "outputs": [
    {
     "name": "stdout",
     "output_type": "stream",
     "text": [
      "2\n",
      "0\n"
     ]
    }
   ],
   "source": [
    "sucessor = print(a + b)\n",
    "antecessor = print(a - b)"
   ]
  },
  {
   "cell_type": "markdown",
   "id": "e98305b7",
   "metadata": {},
   "source": [
    "Fazendo da forma que o Guabara explicou:"
   ]
  },
  {
   "cell_type": "code",
   "execution_count": 11,
   "id": "55a9019a",
   "metadata": {},
   "outputs": [
    {
     "name": "stdout",
     "output_type": "stream",
     "text": [
      "Digite um número:2\n"
     ]
    }
   ],
   "source": [
    "n = int(input('Digite um número:'))"
   ]
  },
  {
   "cell_type": "code",
   "execution_count": 12,
   "id": "3f2900fc",
   "metadata": {},
   "outputs": [],
   "source": [
    "m = n-1\n",
    "j = n + 1"
   ]
  },
  {
   "cell_type": "code",
   "execution_count": 13,
   "id": "d2c34658",
   "metadata": {},
   "outputs": [
    {
     "name": "stdout",
     "output_type": "stream",
     "text": [
      "analisando o valor 2, o seu antecessor é 1 e o seu sucessor é 3\n"
     ]
    }
   ],
   "source": [
    "print(f'analisando o valor {n}, o seu antecessor é {m} e o seu sucessor é {j}')"
   ]
  },
  {
   "cell_type": "code",
   "execution_count": 14,
   "id": "337556cd",
   "metadata": {},
   "outputs": [
    {
     "name": "stdout",
     "output_type": "stream",
     "text": [
      "analisando o valor 2, o seu antecessor é 1 e o seu sucessor é 3\n"
     ]
    }
   ],
   "source": [
    "print(f'analisando o valor {n}, o seu antecessor é {n-1} e o seu sucessor é {n+1}')"
   ]
  },
  {
   "cell_type": "code",
   "execution_count": null,
   "id": "d6fe3508",
   "metadata": {},
   "outputs": [],
   "source": []
  },
  {
   "cell_type": "markdown",
   "id": "95d5b147",
   "metadata": {},
   "source": [
    "**Exercício #006 - Dobro, Triplo e Raiz quadrada**"
   ]
  },
  {
   "cell_type": "markdown",
   "id": "2837bc27",
   "metadata": {},
   "source": [
    "crie um algoritimo que mostre o seu dobro, o seu triplo e a raíz quadrada:"
   ]
  },
  {
   "cell_type": "code",
   "execution_count": 22,
   "id": "5daf56f6",
   "metadata": {},
   "outputs": [
    {
     "name": "stdout",
     "output_type": "stream",
     "text": [
      "Digite um número:4\n"
     ]
    }
   ],
   "source": [
    "b = int(input('Digite um número:'))"
   ]
  },
  {
   "cell_type": "code",
   "execution_count": 23,
   "id": "13255f84",
   "metadata": {},
   "outputs": [
    {
     "name": "stdout",
     "output_type": "stream",
     "text": [
      "O dobro de 4 é 8\n"
     ]
    }
   ],
   "source": [
    "print(f'O dobro de {b} é {2*b}')"
   ]
  },
  {
   "cell_type": "code",
   "execution_count": 24,
   "id": "a801d7bf",
   "metadata": {},
   "outputs": [
    {
     "name": "stdout",
     "output_type": "stream",
     "text": [
      "O triplo de 4 é 12\n"
     ]
    }
   ],
   "source": [
    "print(f'O triplo de {b} é {3*b}')"
   ]
  },
  {
   "cell_type": "code",
   "execution_count": 25,
   "id": "8fbaf9d7",
   "metadata": {},
   "outputs": [
    {
     "name": "stdout",
     "output_type": "stream",
     "text": [
      " A raiz de 4 é 2.0\n"
     ]
    }
   ],
   "source": [
    "print(f' A raiz de {b} é {b**(1/2)}')"
   ]
  },
  {
   "cell_type": "code",
   "execution_count": null,
   "id": "4fe113b6",
   "metadata": {},
   "outputs": [],
   "source": []
  },
  {
   "cell_type": "markdown",
   "id": "8ddc02b2",
   "metadata": {},
   "source": [
    "**Exercício #007 - Média aritmética**"
   ]
  },
  {
   "cell_type": "markdown",
   "id": "2f6d9796",
   "metadata": {},
   "source": [
    "Desenvolva um programa que leia as duas notas de um aluno, calcule e mostre a sua média"
   ]
  },
  {
   "cell_type": "code",
   "execution_count": 47,
   "id": "711c57fb",
   "metadata": {},
   "outputs": [
    {
     "name": "stdout",
     "output_type": "stream",
     "text": [
      "nota alunox =8\n"
     ]
    }
   ],
   "source": [
    "alunox = float(input('nota alunox ='))"
   ]
  },
  {
   "cell_type": "code",
   "execution_count": 48,
   "id": "b06011ca",
   "metadata": {},
   "outputs": [
    {
     "name": "stdout",
     "output_type": "stream",
     "text": [
      "nota aluno =9\n"
     ]
    }
   ],
   "source": [
    "alunoy = float(input('nota aluno ='))"
   ]
  },
  {
   "cell_type": "code",
   "execution_count": 49,
   "id": "ce0c2870",
   "metadata": {},
   "outputs": [
    {
     "name": "stdout",
     "output_type": "stream",
     "text": [
      "8.5\n"
     ]
    }
   ],
   "source": [
    "media = (alunox+alunoy)/2\n",
    "print(media)"
   ]
  },
  {
   "cell_type": "code",
   "execution_count": null,
   "id": "1051a303",
   "metadata": {},
   "outputs": [],
   "source": []
  },
  {
   "cell_type": "markdown",
   "id": "c6ef6a5c",
   "metadata": {},
   "source": [
    "**Exercício #008 - Conversor de medidas**"
   ]
  },
  {
   "cell_type": "code",
   "execution_count": 50,
   "id": "83f22272",
   "metadata": {},
   "outputs": [
    {
     "name": "stdout",
     "output_type": "stream",
     "text": [
      "Escreva uma medida em m:3\n"
     ]
    }
   ],
   "source": [
    "m = float(input('Escreva uma medida em m:'))"
   ]
  },
  {
   "cell_type": "code",
   "execution_count": 51,
   "id": "2e0cb8f9",
   "metadata": {},
   "outputs": [
    {
     "name": "stdout",
     "output_type": "stream",
     "text": [
      " a medida em 3.0 m corresponde a:\n"
     ]
    }
   ],
   "source": [
    "print(f' a medida em {m} m corresponde a:')"
   ]
  },
  {
   "cell_type": "code",
   "execution_count": 52,
   "id": "8fbda464",
   "metadata": {},
   "outputs": [
    {
     "name": "stdout",
     "output_type": "stream",
     "text": [
      " a medida 5m em km corresponde a: 0.003km\n",
      " a medida 5m em hm corresponde a: 0.03hm\n",
      " a medida 5m em dam corresponde a: 0.3dam\n",
      " a medida 5m em dm corresponde a: 30.0dm\n"
     ]
    }
   ],
   "source": [
    "print(f' a medida {5}m em km corresponde a: {m/1000}km')\n",
    "print(f' a medida {5}m em hm corresponde a: {m/100}hm')\n",
    "print(f' a medida {5}m em dam corresponde a: {m/10}dam')\n",
    "print(f' a medida {5}m em dm corresponde a: {m*10}dm')"
   ]
  },
  {
   "cell_type": "code",
   "execution_count": null,
   "id": "a86b5763",
   "metadata": {},
   "outputs": [],
   "source": []
  },
  {
   "cell_type": "markdown",
   "id": "ff0299be",
   "metadata": {},
   "source": [
    "**Exercício #009 - Tabuada**"
   ]
  },
  {
   "cell_type": "code",
   "execution_count": 78,
   "id": "fd7b8f7e",
   "metadata": {},
   "outputs": [
    {
     "name": "stdout",
     "output_type": "stream",
     "text": [
      "Digite um número para ver sua tabuada:6\n"
     ]
    }
   ],
   "source": [
    "n = int(input('Digite um número para ver sua tabuada:'))"
   ]
  },
  {
   "cell_type": "code",
   "execution_count": 79,
   "id": "aa7ed342",
   "metadata": {},
   "outputs": [],
   "source": [
    "m = int(0)"
   ]
  },
  {
   "cell_type": "code",
   "execution_count": 91,
   "id": "df8ff4ed",
   "metadata": {},
   "outputs": [
    {
     "name": "stdout",
     "output_type": "stream",
     "text": [
      " A tabuada de 6 é:\n",
      " 6 x 0 = 0\n",
      " 6 x 1 = 6\n",
      " 6 x 2 = 12\n",
      " 6 x 3 = 18\n",
      " 6 x 4 = 24\n",
      " 6 x 5 = 30\n",
      " 6 x 6 = 36\n",
      " 6 x 7 = 42\n",
      " 6 x 8 = 48\n",
      " 6 x 9 = 54\n",
      " 6 x 10 = 60\n"
     ]
    }
   ],
   "source": [
    "print(f' A tabuada de {n} é:')\n",
    "print(f' {n} x {m} = {n * (m)}')\n",
    "print(f' {n} x {m+1} = {n * (m+1)}')\n",
    "print(f' {n} x {m+2} = {n * (m+2)}')\n",
    "print(f' {n} x {m+3} = {n * (m+3)}')\n",
    "print(f' {n} x {m+4} = {n * (m+4)}')\n",
    "print(f' {n} x {m+5} = {n * (m+5)}')\n",
    "print(f' {n} x {m+6} = {n * (m+6)}')\n",
    "print(f' {n} x {m+7} = {n * (m+7)}')\n",
    "print(f' {n} x {m+8} = {n * (m+8)}')\n",
    "print(f' {n} x {m+9} = {n * (m+9)}')\n",
    "print(f' {n} x {m+10} = {n *(m+10)}')"
   ]
  },
  {
   "cell_type": "code",
   "execution_count": null,
   "id": "78e46a4a",
   "metadata": {},
   "outputs": [],
   "source": []
  },
  {
   "cell_type": "code",
   "execution_count": null,
   "id": "30a1acda",
   "metadata": {},
   "outputs": [],
   "source": []
  }
 ],
 "metadata": {
  "kernelspec": {
   "display_name": "Python 3",
   "language": "python",
   "name": "python3"
  },
  "language_info": {
   "codemirror_mode": {
    "name": "ipython",
    "version": 3
   },
   "file_extension": ".py",
   "mimetype": "text/x-python",
   "name": "python",
   "nbconvert_exporter": "python",
   "pygments_lexer": "ipython3",
   "version": "3.8.8"
  }
 },
 "nbformat": 4,
 "nbformat_minor": 5
}
