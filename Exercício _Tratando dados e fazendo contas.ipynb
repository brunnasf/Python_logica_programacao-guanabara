{
 "cells": [
  {
   "cell_type": "markdown",
   "id": "abeccff7",
   "metadata": {},
   "source": [
    "**Exercício #003 - Somando dois números**"
   ]
  },
  {
   "cell_type": "markdown",
   "id": "9199d09a",
   "metadata": {},
   "source": [
    "Crie um programa que leia dois números e mostre a soma entre eles."
   ]
  },
  {
   "cell_type": "code",
   "execution_count": 1,
   "id": "43292793",
   "metadata": {},
   "outputs": [
    {
     "name": "stdout",
     "output_type": "stream",
     "text": [
      "digite um valor:5\n"
     ]
    }
   ],
   "source": [
    "n1 = int(input ('digite um valor:'))"
   ]
  },
  {
   "cell_type": "code",
   "execution_count": 2,
   "id": "330afd3a",
   "metadata": {},
   "outputs": [
    {
     "name": "stdout",
     "output_type": "stream",
     "text": [
      "digite outro valor:2\n"
     ]
    }
   ],
   "source": [
    "n2 = int(input ('digite outro valor:'))"
   ]
  },
  {
   "cell_type": "code",
   "execution_count": 3,
   "id": "7718130f",
   "metadata": {},
   "outputs": [],
   "source": [
    "s = n1 + n2"
   ]
  },
  {
   "cell_type": "code",
   "execution_count": 4,
   "id": "693fe335",
   "metadata": {},
   "outputs": [
    {
     "name": "stdout",
     "output_type": "stream",
     "text": [
      "a soma entre 5 e 2 é igual a 7\n"
     ]
    }
   ],
   "source": [
    "print(f'a soma entre {n1} e {n2} é igual a {s}')"
   ]
  },
  {
   "cell_type": "code",
   "execution_count": null,
   "id": "37676c13",
   "metadata": {},
   "outputs": [],
   "source": []
  },
  {
   "cell_type": "markdown",
   "id": "dd873324",
   "metadata": {},
   "source": [
    "**Exercício #004 - Dissecando uma variável**"
   ]
  },
  {
   "cell_type": "markdown",
   "id": "5cd25437",
   "metadata": {},
   "source": [
    "Faça um programa que leia algo pelo teclado e mostre na tela o seu tipo primitivo e todas as informações possíveis sobre ele."
   ]
  },
  {
   "cell_type": "code",
   "execution_count": 5,
   "id": "e7f39d28",
   "metadata": {},
   "outputs": [
    {
     "name": "stdout",
     "output_type": "stream",
     "text": [
      "Diigite algo:7\n"
     ]
    }
   ],
   "source": [
    "a = input ('Diigite algo:')"
   ]
  },
  {
   "cell_type": "code",
   "execution_count": 6,
   "id": "030884b5",
   "metadata": {},
   "outputs": [
    {
     "name": "stdout",
     "output_type": "stream",
     "text": [
      "O tipo primitivo desse valor é : <class 'str'>\n",
      "Só tem espaços? False\n",
      "É um número? True\n",
      "É alfabético? False\n",
      "É alfanumérico? True\n",
      "Está em maiúscula? False\n",
      "Está em minúscula? False\n"
     ]
    }
   ],
   "source": [
    "print('O tipo primitivo desse valor é :', type(a))\n",
    "\n",
    "print ('Só tem espaços?',a.isspace())\n",
    "\n",
    "print ('É um número?', a.isnumeric())\n",
    "\n",
    "print ('É alfabético?',a.isalpha())\n",
    "\n",
    "print ('É alfanumérico?', a.isalnum())\n",
    "\n",
    "print ('Está em maiúscula?', a.isupper())\n",
    "\n",
    "print ('Está em minúscula?', a.islower())"
   ]
  },
  {
   "cell_type": "raw",
   "id": "971ab13f",
   "metadata": {},
   "source": []
  },
  {
   "cell_type": "markdown",
   "id": "f8fec3d4",
   "metadata": {},
   "source": [
    "**Exercício #005 - Antecessor e Sucessor**"
   ]
  },
  {
   "cell_type": "markdown",
   "id": "92a887ba",
   "metadata": {},
   "source": [
    "Faça um programa que leia um número inteiro e mostre na tela o seu sucessor e seu antecessor"
   ]
  },
  {
   "cell_type": "code",
   "execution_count": 7,
   "id": "2ec1eed4",
   "metadata": {},
   "outputs": [
    {
     "name": "stdout",
     "output_type": "stream",
     "text": [
      "Escreva um número:10\n"
     ]
    }
   ],
   "source": [
    "a = int(input('Escreva um número:'))"
   ]
  },
  {
   "cell_type": "code",
   "execution_count": 8,
   "id": "871e097e",
   "metadata": {},
   "outputs": [],
   "source": [
    "b = int(1)"
   ]
  },
  {
   "cell_type": "code",
   "execution_count": 9,
   "id": "361b9e3d",
   "metadata": {},
   "outputs": [
    {
     "name": "stdout",
     "output_type": "stream",
     "text": [
      "11\n",
      "9\n"
     ]
    }
   ],
   "source": [
    "sucessor = print(a + b)\n",
    "antecessor = print(a - b)"
   ]
  },
  {
   "cell_type": "markdown",
   "id": "e98305b7",
   "metadata": {},
   "source": [
    "Fazendo da forma que o Guabara explicou:"
   ]
  },
  {
   "cell_type": "code",
   "execution_count": 10,
   "id": "55a9019a",
   "metadata": {},
   "outputs": [
    {
     "name": "stdout",
     "output_type": "stream",
     "text": [
      "Digite um número:8\n"
     ]
    }
   ],
   "source": [
    "n = int(input('Digite um número:'))"
   ]
  },
  {
   "cell_type": "code",
   "execution_count": 11,
   "id": "3f2900fc",
   "metadata": {},
   "outputs": [],
   "source": [
    "m = n-1\n",
    "j = n + 1"
   ]
  },
  {
   "cell_type": "code",
   "execution_count": 12,
   "id": "d2c34658",
   "metadata": {},
   "outputs": [
    {
     "name": "stdout",
     "output_type": "stream",
     "text": [
      "analisando o valor 8, o seu antecessor é 7 e o seu sucessor é 9\n"
     ]
    }
   ],
   "source": [
    "print(f'analisando o valor {n}, o seu antecessor é {m} e o seu sucessor é {j}')"
   ]
  },
  {
   "cell_type": "code",
   "execution_count": 13,
   "id": "337556cd",
   "metadata": {},
   "outputs": [
    {
     "name": "stdout",
     "output_type": "stream",
     "text": [
      "analisando o valor 8, o seu antecessor é 7 e o seu sucessor é 9\n"
     ]
    }
   ],
   "source": [
    "print(f'analisando o valor {n}, o seu antecessor é {n-1} e o seu sucessor é {n+1}')"
   ]
  },
  {
   "cell_type": "code",
   "execution_count": null,
   "id": "d6fe3508",
   "metadata": {},
   "outputs": [],
   "source": []
  },
  {
   "cell_type": "markdown",
   "id": "95d5b147",
   "metadata": {},
   "source": [
    "**Exercício #006 - Dobro, Triplo e Raiz quadrada**"
   ]
  },
  {
   "cell_type": "markdown",
   "id": "248257d2",
   "metadata": {},
   "source": [
    "crie um algoritimo que mostre o seu dobro, o seu triplo e a raíz quadrada:"
   ]
  },
  {
   "cell_type": "code",
   "execution_count": 14,
   "id": "5daf56f6",
   "metadata": {},
   "outputs": [
    {
     "name": "stdout",
     "output_type": "stream",
     "text": [
      "Digite um número:3\n"
     ]
    }
   ],
   "source": [
    "b = int(input('Digite um número:'))"
   ]
  },
  {
   "cell_type": "code",
   "execution_count": 15,
   "id": "13255f84",
   "metadata": {},
   "outputs": [
    {
     "name": "stdout",
     "output_type": "stream",
     "text": [
      "O dobro de 3 é 6\n"
     ]
    }
   ],
   "source": [
    "print(f'O dobro de {b} é {2*b}')"
   ]
  },
  {
   "cell_type": "code",
   "execution_count": 16,
   "id": "a801d7bf",
   "metadata": {},
   "outputs": [
    {
     "name": "stdout",
     "output_type": "stream",
     "text": [
      "O triplo de 3 é 9\n"
     ]
    }
   ],
   "source": [
    "print(f'O triplo de {b} é {3*b}')"
   ]
  },
  {
   "cell_type": "code",
   "execution_count": 17,
   "id": "8fbaf9d7",
   "metadata": {},
   "outputs": [
    {
     "name": "stdout",
     "output_type": "stream",
     "text": [
      " A raiz de 3 é 1.7320508075688772\n"
     ]
    }
   ],
   "source": [
    "print(f' A raiz de {b} é {b**(1/2)}')"
   ]
  },
  {
   "cell_type": "code",
   "execution_count": null,
   "id": "4fe113b6",
   "metadata": {},
   "outputs": [],
   "source": []
  },
  {
   "cell_type": "markdown",
   "id": "6941973c",
   "metadata": {},
   "source": [
    "**Exercício #007 - Média aritmética**"
   ]
  },
  {
   "cell_type": "markdown",
   "id": "275fd6c4",
   "metadata": {},
   "source": [
    "Desenvolva um programa que leia as duas notas de um aluno, calcule e mostre a sua média"
   ]
  },
  {
   "cell_type": "code",
   "execution_count": 18,
   "id": "758214b7",
   "metadata": {},
   "outputs": [
    {
     "name": "stdout",
     "output_type": "stream",
     "text": [
      "nota alunox =8\n"
     ]
    }
   ],
   "source": [
    "alunox = float(input('nota alunox ='))"
   ]
  },
  {
   "cell_type": "code",
   "execution_count": 19,
   "id": "714047a9",
   "metadata": {},
   "outputs": [
    {
     "name": "stdout",
     "output_type": "stream",
     "text": [
      "nota aluno =8\n"
     ]
    }
   ],
   "source": [
    "alunoy = float(input('nota aluno ='))"
   ]
  },
  {
   "cell_type": "code",
   "execution_count": 20,
   "id": "c1f64565",
   "metadata": {},
   "outputs": [
    {
     "name": "stdout",
     "output_type": "stream",
     "text": [
      "8.0\n"
     ]
    }
   ],
   "source": [
    "media = (alunox+alunoy)/2\n",
    "print(media)"
   ]
  },
  {
   "cell_type": "code",
   "execution_count": null,
   "id": "fb0b5d42",
   "metadata": {},
   "outputs": [],
   "source": []
  },
  {
   "cell_type": "markdown",
   "id": "c6ef6a5c",
   "metadata": {},
   "source": [
    "**Exercício #008 - Conversor de medidas**"
   ]
  },
  {
   "cell_type": "code",
   "execution_count": 21,
   "id": "83f22272",
   "metadata": {},
   "outputs": [
    {
     "name": "stdout",
     "output_type": "stream",
     "text": [
      "Escreva uma medida em m:9\n"
     ]
    }
   ],
   "source": [
    "m = float(input('Escreva uma medida em m:'))"
   ]
  },
  {
   "cell_type": "code",
   "execution_count": 22,
   "id": "4fda0a7e",
   "metadata": {},
   "outputs": [
    {
     "name": "stdout",
     "output_type": "stream",
     "text": [
      " a medida em 9.0 m corresponde a:\n"
     ]
    }
   ],
   "source": [
    "print(f' a medida em {m} m corresponde a:')"
   ]
  },
  {
   "cell_type": "code",
   "execution_count": 24,
   "id": "b96c6548",
   "metadata": {},
   "outputs": [
    {
     "name": "stdout",
     "output_type": "stream",
     "text": [
      " a medida 9.0m em km corresponde a: 0.009km\n",
      " a medida 9.0m em hm corresponde a: 0.09hm\n",
      " a medida 9.0m em dam corresponde a: 0.9dam\n",
      " a medida 9.0m em dm corresponde a: 90.0dm\n"
     ]
    }
   ],
   "source": [
    "print(f' a medida {m}m em km corresponde a: {m/1000}km')\n",
    "print(f' a medida {m}m em hm corresponde a: {m/100}hm')\n",
    "print(f' a medida {m}m em dam corresponde a: {m/10}dam')\n",
    "print(f' a medida {m}m em dm corresponde a: {m*10}dm')"
   ]
  },
  {
   "cell_type": "code",
   "execution_count": null,
   "id": "a86b5763",
   "metadata": {},
   "outputs": [],
   "source": []
  },
  {
   "cell_type": "markdown",
   "id": "92af8dd5",
   "metadata": {},
   "source": [
    "**Exercício #009 - Tabuada**"
   ]
  },
  {
   "cell_type": "code",
   "execution_count": 25,
   "id": "af07cedc",
   "metadata": {},
   "outputs": [
    {
     "name": "stdout",
     "output_type": "stream",
     "text": [
      "Digite um número para ver sua tabuada:6\n"
     ]
    }
   ],
   "source": [
    "n = int(input('Digite um número para ver sua tabuada:'))"
   ]
  },
  {
   "cell_type": "code",
   "execution_count": 26,
   "id": "987f581f",
   "metadata": {},
   "outputs": [],
   "source": [
    "m = int(0)"
   ]
  },
  {
   "cell_type": "code",
   "execution_count": 27,
   "id": "7ac5fa22",
   "metadata": {},
   "outputs": [
    {
     "name": "stdout",
     "output_type": "stream",
     "text": [
      " A tabuada de 6 é:\n",
      " 6 x 0 = 0\n",
      " 6 x 1 = 6\n",
      " 6 x 2 = 12\n",
      " 6 x 3 = 18\n",
      " 6 x 4 = 24\n",
      " 6 x 5 = 30\n",
      " 6 x 6 = 36\n",
      " 6 x 7 = 42\n",
      " 6 x 8 = 48\n",
      " 6 x 9 = 54\n",
      " 6 x 10 = 60\n"
     ]
    }
   ],
   "source": [
    "print(f' A tabuada de {n} é:')\n",
    "print(f' {n} x {m} = {n * (m)}')\n",
    "print(f' {n} x {m+1} = {n * (m+1)}')\n",
    "print(f' {n} x {m+2} = {n * (m+2)}')\n",
    "print(f' {n} x {m+3} = {n * (m+3)}')\n",
    "print(f' {n} x {m+4} = {n * (m+4)}')\n",
    "print(f' {n} x {m+5} = {n * (m+5)}')\n",
    "print(f' {n} x {m+6} = {n * (m+6)}')\n",
    "print(f' {n} x {m+7} = {n * (m+7)}')\n",
    "print(f' {n} x {m+8} = {n * (m+8)}')\n",
    "print(f' {n} x {m+9} = {n * (m+9)}')\n",
    "print(f' {n} x {m+10} = {n *(m+10)}')"
   ]
  },
  {
   "cell_type": "code",
   "execution_count": null,
   "id": "8f198faf",
   "metadata": {},
   "outputs": [],
   "source": []
  },
  {
   "cell_type": "markdown",
   "id": "a3a10dbd",
   "metadata": {},
   "source": [
    "**Exercício #010 - Conversor de Moedas**"
   ]
  },
  {
   "cell_type": "code",
   "execution_count": 28,
   "id": "cf9a0722",
   "metadata": {},
   "outputs": [
    {
     "name": "stdout",
     "output_type": "stream",
     "text": [
      "Quanto dinheiro você tem na carteira em R$?5\n"
     ]
    }
   ],
   "source": [
    "r = float(input('Quanto dinheiro você tem na carteira em R$?'))"
   ]
  },
  {
   "cell_type": "code",
   "execution_count": 29,
   "id": "0b585f99",
   "metadata": {},
   "outputs": [],
   "source": [
    "d = float(3.27)"
   ]
  },
  {
   "cell_type": "code",
   "execution_count": 30,
   "id": "2ec5138a",
   "metadata": {},
   "outputs": [
    {
     "name": "stdout",
     "output_type": "stream",
     "text": [
      "Com 5.0 você pode comprar 1.529051987767584 dolares\n"
     ]
    }
   ],
   "source": [
    "print(f'Com {r} você pode comprar {r/d} dolares')"
   ]
  },
  {
   "cell_type": "code",
   "execution_count": null,
   "id": "f91311d8",
   "metadata": {},
   "outputs": [],
   "source": []
  },
  {
   "cell_type": "markdown",
   "id": "e0c6e582",
   "metadata": {},
   "source": [
    "**Exercício #011 - Pintando parede**"
   ]
  },
  {
   "cell_type": "markdown",
   "id": "b5c300a4",
   "metadata": {},
   "source": [
    "Faça um programa que leia a largura e a altura de uma parede em metros, calcule a sua área e a quantidade de tinta necessária para pintá-la, sabendo que cada litro de tinta pinta uma área de 2 metros quadrados."
   ]
  },
  {
   "cell_type": "code",
   "execution_count": 31,
   "id": "60ec6716",
   "metadata": {},
   "outputs": [
    {
     "name": "stdout",
     "output_type": "stream",
     "text": [
      "Digite a largura da parede:3\n"
     ]
    }
   ],
   "source": [
    "l = float(input('Digite a largura da parede:'))"
   ]
  },
  {
   "cell_type": "code",
   "execution_count": 32,
   "id": "850d98d3",
   "metadata": {},
   "outputs": [
    {
     "name": "stdout",
     "output_type": "stream",
     "text": [
      "Digite a altura da parede:2\n"
     ]
    }
   ],
   "source": [
    "h = float(input('Digite a altura da parede:'))"
   ]
  },
  {
   "cell_type": "code",
   "execution_count": 33,
   "id": "d4eafa21",
   "metadata": {},
   "outputs": [
    {
     "name": "stdout",
     "output_type": "stream",
     "text": [
      "A área é igual a 6.0 m e precisa de 3.0 litros de tinta para pintar o total da parede, pois 2m precisa de 1l de tinta.\n"
     ]
    }
   ],
   "source": [
    "print (f'A área é igual a {l*h} m e precisa de {(l*h)/2} litros de tinta para pintar o total da parede, pois 2m precisa de 1l de tinta.')"
   ]
  },
  {
   "cell_type": "code",
   "execution_count": null,
   "id": "7f46c830",
   "metadata": {},
   "outputs": [],
   "source": []
  },
  {
   "cell_type": "markdown",
   "id": "b57ca8ee",
   "metadata": {},
   "source": [
    "**Exercício #012 - Calculando Descontos**"
   ]
  },
  {
   "cell_type": "markdown",
   "id": "297570a5",
   "metadata": {},
   "source": [
    "Faça um algoritmo que leia o preço de um produto e mostre seu novo preço, com 5% de desconto."
   ]
  },
  {
   "cell_type": "code",
   "execution_count": 34,
   "id": "9986150c",
   "metadata": {},
   "outputs": [
    {
     "name": "stdout",
     "output_type": "stream",
     "text": [
      "Qual é o preço do produto em R$?18\n"
     ]
    }
   ],
   "source": [
    "p = float(input('Qual é o preço do produto em R$?'))"
   ]
  },
  {
   "cell_type": "code",
   "execution_count": 35,
   "id": "09bc3dd3",
   "metadata": {},
   "outputs": [],
   "source": [
    "d = float(0.05)"
   ]
  },
  {
   "cell_type": "code",
   "execution_count": 36,
   "id": "b39dcab1",
   "metadata": {},
   "outputs": [
    {
     "name": "stdout",
     "output_type": "stream",
     "text": [
      "o produto que custava 18.0 com desconto de 5% fica com valor de 17.1\n"
     ]
    }
   ],
   "source": [
    "print(f'o produto que custava {p} com desconto de 5% fica com valor de {(p)-(d*p)}')"
   ]
  },
  {
   "cell_type": "code",
   "execution_count": null,
   "id": "0ed59a47",
   "metadata": {},
   "outputs": [],
   "source": []
  },
  {
   "cell_type": "markdown",
   "id": "76fb9f9d",
   "metadata": {},
   "source": [
    "**Exercício #013 - Reajuste salarial**"
   ]
  },
  {
   "cell_type": "markdown",
   "id": "03aa806a",
   "metadata": {},
   "source": [
    "Faça um algoritmo que leia o salário de um funcionário e mostre seu novo salário, com 15% de aumento."
   ]
  },
  {
   "cell_type": "code",
   "execution_count": 37,
   "id": "abeef68e",
   "metadata": {},
   "outputs": [
    {
     "name": "stdout",
     "output_type": "stream",
     "text": [
      "Qual é o salário do funcioário em R$?1500\n"
     ]
    }
   ],
   "source": [
    "f = float(input('Qual é o salário do funcioário em R$?'))"
   ]
  },
  {
   "cell_type": "code",
   "execution_count": 38,
   "id": "c15a3210",
   "metadata": {},
   "outputs": [],
   "source": [
    "r = float (0.15)"
   ]
  },
  {
   "cell_type": "code",
   "execution_count": 39,
   "id": "ddcd9328",
   "metadata": {},
   "outputs": [
    {
     "name": "stdout",
     "output_type": "stream",
     "text": [
      "o salário do funcionário 1500.0 com reajuste de 15% fica com valor de 1725.0\n"
     ]
    }
   ],
   "source": [
    "print(f'o salário do funcionário {f} com reajuste de 15% fica com valor de {(f)+(r*f)}')"
   ]
  },
  {
   "cell_type": "code",
   "execution_count": null,
   "id": "01a1a618",
   "metadata": {},
   "outputs": [],
   "source": []
  },
  {
   "cell_type": "markdown",
   "id": "af337b1c",
   "metadata": {},
   "source": [
    "A forma que o professor ensinou:"
   ]
  },
  {
   "cell_type": "code",
   "execution_count": null,
   "id": "f19034fe",
   "metadata": {},
   "outputs": [],
   "source": [
    "salario= float(input('Qual é o salário do funcioário em R$?'))"
   ]
  },
  {
   "cell_type": "code",
   "execution_count": null,
   "id": "3d3aaf33",
   "metadata": {},
   "outputs": [],
   "source": [
    "novo = salario +(salario *15/100)"
   ]
  },
  {
   "cell_type": "code",
   "execution_count": null,
   "id": "a213f00f",
   "metadata": {},
   "outputs": [],
   "source": [
    "print('o salário do funcionário {:.2f} com reajuste de 15% fica com valor de {:.2f}'.format(salario,novo))"
   ]
  },
  {
   "cell_type": "code",
   "execution_count": null,
   "id": "99837d3e",
   "metadata": {},
   "outputs": [],
   "source": []
  },
  {
   "cell_type": "markdown",
   "id": "5640ccac",
   "metadata": {},
   "source": [
    "**Exercício #014 - Conversor de Temperaturas**"
   ]
  },
  {
   "cell_type": "markdown",
   "id": "80f610dd",
   "metadata": {},
   "source": [
    "Escreva um programa que converta uma temperatura digitando em graus Celsius e converta para graus Fahrenheit."
   ]
  },
  {
   "cell_type": "code",
   "execution_count": 40,
   "id": "454960d7",
   "metadata": {},
   "outputs": [
    {
     "name": "stdout",
     "output_type": "stream",
     "text": [
      "Informe a temperatura em Celsius:26\n"
     ]
    }
   ],
   "source": [
    "c = float(input('Informe a temperatura em Celsius:'))"
   ]
  },
  {
   "cell_type": "code",
   "execution_count": 41,
   "id": "877ddebc",
   "metadata": {},
   "outputs": [
    {
     "name": "stdout",
     "output_type": "stream",
     "text": [
      "26.0°C corresponde a 78.8°F\n"
     ]
    }
   ],
   "source": [
    "print(f'{c}°C corresponde a {(9*c)/5+32}°F')"
   ]
  },
  {
   "cell_type": "code",
   "execution_count": null,
   "id": "c4b38bbd",
   "metadata": {},
   "outputs": [],
   "source": []
  },
  {
   "cell_type": "markdown",
   "id": "3fd522d1",
   "metadata": {},
   "source": [
    "**Exercício #015 - Aluguel de carros**"
   ]
  },
  {
   "cell_type": "markdown",
   "id": "97870a75",
   "metadata": {},
   "source": [
    " Escreva um programa que pergunte a quantidade de Km percorridos por um carro alugado e a quantidade de dias pelos quais ele foi alugado. Calcule o preço a pagar, sabendo que o carro custa 60 reais por dia e 0,15 centavos por Km rodado."
   ]
  },
  {
   "cell_type": "code",
   "execution_count": null,
   "id": "380d463e",
   "metadata": {},
   "outputs": [],
   "source": []
  },
  {
   "cell_type": "code",
   "execution_count": null,
   "id": "0166c455",
   "metadata": {},
   "outputs": [],
   "source": []
  },
  {
   "cell_type": "code",
   "execution_count": null,
   "id": "88eca97f",
   "metadata": {},
   "outputs": [],
   "source": []
  },
  {
   "cell_type": "code",
   "execution_count": null,
   "id": "3bd56cb5",
   "metadata": {},
   "outputs": [],
   "source": []
  },
  {
   "cell_type": "code",
   "execution_count": null,
   "id": "81b8f25b",
   "metadata": {},
   "outputs": [],
   "source": []
  }
 ],
 "metadata": {
  "kernelspec": {
   "display_name": "Python 3",
   "language": "python",
   "name": "python3"
  },
  "language_info": {
   "codemirror_mode": {
    "name": "ipython",
    "version": 3
   },
   "file_extension": ".py",
   "mimetype": "text/x-python",
   "name": "python",
   "nbconvert_exporter": "python",
   "pygments_lexer": "ipython3",
   "version": "3.8.8"
  }
 },
 "nbformat": 4,
 "nbformat_minor": 5
}
